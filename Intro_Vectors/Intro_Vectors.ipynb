{
 "cells": [
  {
   "cell_type": "markdown",
   "id": "06735034-9425-4a13-a7b6-4abeb82fbd4e",
   "metadata": {},
   "source": [
    "### Tricia Jonina B. Alcisto"
   ]
  },
  {
   "cell_type": "markdown",
   "id": "ddb6ef46-a328-47a3-83a3-1ba548c5a11e",
   "metadata": {},
   "source": [
    "#### problem 1"
   ]
  },
  {
   "cell_type": "markdown",
   "id": "abeaf55b-27db-456b-8b48-54cdecbd5d97",
   "metadata": {
    "jp-MarkdownHeadingCollapsed": true
   },
   "source": [
    "$$ let $$ $$ u = (1,-2,4)  v = (3,5,1) w = (2,1,-3) $$"
   ]
  },
  {
   "cell_type": "markdown",
   "id": "3a783a96-8b38-4e4e-a5fd-18540f35e97d",
   "metadata": {},
   "source": [
    "$$ a.) 3u-2v $$"
   ]
  },
  {
   "cell_type": "markdown",
   "id": "138c5064-49ba-4ead-a5bc-bddea2b838d6",
   "metadata": {},
   "source": [
    "$$ 3(1,-2,4) - 2(3,5,1) = (3,-6,12) - (2,10,2) = (-3,-16,10)$$"
   ]
  },
  {
   "cell_type": "code",
   "execution_count": 1,
   "id": "accc8046-1c95-42e2-affc-7548fd74c1ef",
   "metadata": {},
   "outputs": [],
   "source": [
    "import numpy as np"
   ]
  },
  {
   "cell_type": "code",
   "execution_count": 2,
   "id": "da01529c-4740-4029-a353-75d2de6ed57c",
   "metadata": {},
   "outputs": [
    {
     "name": "stdout",
     "output_type": "stream",
     "text": [
      "[ -3 -16  10]\n"
     ]
    }
   ],
   "source": [
    "u=np.array([1,-2,4])\n",
    "v=np.array([3,5,1])\n",
    "print(3*u-2*v)"
   ]
  },
  {
   "cell_type": "markdown",
   "id": "112cdb08-0182-4db5-bb0b-e4ca1a7999a0",
   "metadata": {},
   "source": [
    "$$ b.) 5u + 3v - 4w $$"
   ]
  },
  {
   "cell_type": "markdown",
   "id": "8109a00a-705e-4ce4-929e-a5aaf80e65cd",
   "metadata": {},
   "source": [
    "$$ 5(1,-2,4)+3(3,5,1)-4(2,1-3)=(5,-10,20)+(9,15,3)-4(8,4,-12)=(6,1,35) $$ "
   ]
  },
  {
   "cell_type": "code",
   "execution_count": 3,
   "id": "66949f1c-eef5-4d5f-958b-88d1198d7954",
   "metadata": {},
   "outputs": [
    {
     "name": "stdout",
     "output_type": "stream",
     "text": [
      "[ 6  1 35]\n"
     ]
    }
   ],
   "source": [
    "w=np.array([2,1,-3])\n",
    "print(5*u+3*v-4*w)"
   ]
  },
  {
   "cell_type": "markdown",
   "id": "2c95953c-79e1-4df3-93a7-650f5bc601b8",
   "metadata": {},
   "source": [
    "$$ c.)u.v,v.w,u.w $$"
   ]
  },
  {
   "cell_type": "markdown",
   "id": "929ad747-c6f8-4a14-abdf-0d734e5738aa",
   "metadata": {},
   "source": [
    "$$ u.v = (1.3)+(-2.5)+(4.1)=3-10+4=-3$$"
   ]
  },
  {
   "cell_type": "markdown",
   "id": "2b1e5ce7-3246-4dc1-b4d3-7b402bdac28b",
   "metadata": {},
   "source": [
    "$$ v.w=(3.2)+(5.1)+(1.(-3)) = 6+5-3=11-3=8 $$"
   ]
  },
  {
   "cell_type": "markdown",
   "id": "46f634d0-4f7e-42d6-b612-8d56611629ef",
   "metadata": {},
   "source": [
    "$$ u.w=(1,2)+(-2.1)+(4.(-3))=2-2-12=-12 $$"
   ]
  },
  {
   "cell_type": "code",
   "execution_count": 4,
   "id": "107c3de0-7bb2-49ef-bd09-fd2f35fe7684",
   "metadata": {},
   "outputs": [
    {
     "name": "stdout",
     "output_type": "stream",
     "text": [
      "u.v=  -3\n"
     ]
    }
   ],
   "source": [
    "print(\"u.v= \", u.dot(v))"
   ]
  },
  {
   "cell_type": "code",
   "execution_count": 5,
   "id": "2b737518-4f1f-4ffc-90f1-be6dffd604ea",
   "metadata": {},
   "outputs": [
    {
     "name": "stdout",
     "output_type": "stream",
     "text": [
      "v.w= 8\n"
     ]
    }
   ],
   "source": [
    "print(\"v.w=\", v.dot(w))"
   ]
  },
  {
   "cell_type": "code",
   "execution_count": 7,
   "id": "d35bde54-3d42-4dfa-adc0-16b1a3797c10",
   "metadata": {},
   "outputs": [
    {
     "name": "stdout",
     "output_type": "stream",
     "text": [
      "u.w= -12\n"
     ]
    }
   ],
   "source": [
    "print(\"u.w=\", u.dot(w))"
   ]
  },
  {
   "cell_type": "markdown",
   "id": "d9ab75ab-25df-447a-8631-b9e6e6017e44",
   "metadata": {},
   "source": [
    "$$ d.)||u||, ||v||, ||w|| $$"
   ]
  },
  {
   "cell_type": "markdown",
   "id": "b3f547bd-40a8-4b66-9b4e-eafbc9ded9d5",
   "metadata": {},
   "source": [
    "$$||u||=\\sqrt{u.u} = \\sqrt{(1.1)+(-2.-2)+(4.4)} = \\sqrt{1+4+16}= \\sqrt{21}$$"
   ]
  },
  {
   "cell_type": "markdown",
   "id": "580aa944-d3d0-4dca-b464-80371bf44fcf",
   "metadata": {},
   "source": [
    "$$||v||=\\sqrt{v.v}=\\sqrt{(3.3)+(5.5)+(1.1)}=\\sqrt{9+25+1}=\\sqrt{35} $$"
   ]
  },
  {
   "cell_type": "markdown",
   "id": "feeb3663-0f94-4587-8a81-36b6828602b2",
   "metadata": {},
   "source": [
    "$$||w||=\\sqrt{w.w}=\\sqrt{(2.2)+(1.1)+(-3.-3)}=\\sqrt{(4+1+9)}=\\sqrt{14} $$"
   ]
  },
  {
   "cell_type": "code",
   "execution_count": 10,
   "id": "00413f99-9c9a-40d1-b057-0ada26825585",
   "metadata": {},
   "outputs": [
    {
     "name": "stdout",
     "output_type": "stream",
     "text": [
      "||u||= 4.58257569495584\n",
      "||v||= 5.916079783099616\n",
      "||w||= 3.7416573867739413\n"
     ]
    }
   ],
   "source": [
    "print(\"||u||=\",np.sqrt(u.dot(u)))\n",
    "print(\"||v||=\",np.sqrt(v.dot(v)))\n",
    "print(\"||w||=\",np.sqrt(w.dot(w)))"
   ]
  },
  {
   "cell_type": "markdown",
   "id": "6b033a2c-2591-48e3-bfd3-eaf8c8fca649",
   "metadata": {},
   "source": [
    "$$e.) if\\ \\theta \\ is \\ the \\ angle \\ between \\ u\\  and \\ v, \\ find \\cos \\theta $$"
   ]
  },
  {
   "cell_type": "markdown",
   "id": "058c85bd-37f5-418d-a844-98c1810d710f",
   "metadata": {},
   "source": [
    "$$ cos \\theta = \\frac{u.v}{||u||\\||v||}= \\frac{(1)^2+(-2)^2+(4)^2}{||u||\\||v||} = \\frac{-3}{\\sqrt{21} \\sqrt{35}}$$"
   ]
  },
  {
   "cell_type": "code",
   "execution_count": 13,
   "id": "b2ee870f-d032-4d48-80c8-2b207108c5d0",
   "metadata": {},
   "outputs": [
    {
     "name": "stdout",
     "output_type": "stream",
     "text": [
      "cos theta:  -0.11065666703449763\n"
     ]
    }
   ],
   "source": [
    "print(\"cos theta: \", u.dot(v)/(np.linalg.norm(u)*np.linalg.norm(v)))"
   ]
  },
  {
   "cell_type": "markdown",
   "id": "8a7dbdf5-590a-4bb9-b10a-2f4f9826396c",
   "metadata": {},
   "source": [
    "$$f.)if\\ \\alpha \\ the \\ angle \\ between \\ v\\ and \\ w, \\ find \\ cos \\alpha $$"
   ]
  },
  {
   "cell_type": "markdown",
   "id": "dc2e00e2-ac9a-462a-9f01-693afb2d67c5",
   "metadata": {},
   "source": [
    "$$ cos \\alpha = \\frac{v.w}{||v|| \\ ||w||} = \\frac{8}{\\sqrt{35} \\ \\sqrt{14}} $$"
   ]
  },
  {
   "cell_type": "markdown",
   "id": "37d5aac9-2ec6-41e0-99b7-026786756db8",
   "metadata": {},
   "source": [
    ">getting v.w from problem c, norm of v and w from problem d"
   ]
  },
  {
   "cell_type": "code",
   "execution_count": 14,
   "id": "293596fa-1404-459e-a35d-05f8da113f0c",
   "metadata": {},
   "outputs": [
    {
     "name": "stdout",
     "output_type": "stream",
     "text": [
      "cos alpha:  0.36140316116210053\n"
     ]
    }
   ],
   "source": [
    "print(\"cos alpha: \", v.dot(w)/(np.linalg.norm(v)*np.linalg.norm(w)))"
   ]
  },
  {
   "cell_type": "markdown",
   "id": "112c3eec-330a-42fa-86f5-9618118556a2",
   "metadata": {},
   "source": [
    "$$g.)if\\ \\beta \\ the \\ angle \\ between \\ u\\ and \\ w, \\ find \\ cos \\beta $$"
   ]
  },
  {
   "cell_type": "markdown",
   "id": "4e608b71-4b64-4eb6-a8e0-8e6a5712ccfd",
   "metadata": {},
   "source": [
    "$$ cos \\beta = \\frac{u.w}{||u|| \\ ||w||} = \\frac{u.w}{||u|| \\ ||w||}= \\frac{-12}{\\sqrt{21}\\sqrt{14}} $$"
   ]
  },
  {
   "cell_type": "code",
   "execution_count": 16,
   "id": "49e23fa4-2528-41fc-ab0a-4f67825b2f69",
   "metadata": {},
   "outputs": [
    {
     "name": "stdout",
     "output_type": "stream",
     "text": [
      "cos beta:  -0.6998542122237653\n"
     ]
    }
   ],
   "source": [
    "print(\"cos beta: \", u.dot(w)/(np.linalg.norm(u)*np.linalg.norm(w)))"
   ]
  },
  {
   "cell_type": "markdown",
   "id": "cbc60ab1-e8e5-4585-9b24-aab633442f4d",
   "metadata": {},
   "source": [
    "$$ h.) find \\ d(u,v)$$"
   ]
  },
  {
   "cell_type": "markdown",
   "id": "3cdbd78d-2ac9-4535-b005-3eba02aa2a02",
   "metadata": {},
   "source": [
    "$$ d(u,v)=\\sqrt{(1-3)^2 + (2-5)^2 + (4-1)^2} = \\sqrt{(-2)^2 + (-3)^2 + (3)^2} = \\sqrt{4+14+9}= \\sqrt{27} $$"
   ]
  },
  {
   "cell_type": "code",
   "execution_count": 17,
   "id": "699f2194-0443-499e-a67f-06d636327437",
   "metadata": {},
   "outputs": [
    {
     "name": "stdout",
     "output_type": "stream",
     "text": [
      "d(u,v)= 7.874007874011811\n"
     ]
    }
   ],
   "source": [
    "print(\"d(u,v)=\", np.linalg.norm(u-v))"
   ]
  },
  {
   "cell_type": "markdown",
   "id": "c37f859f-6e93-4d7d-a812-9dfbf87f3499",
   "metadata": {},
   "source": [
    "$$ i.) find \\ d(w,v)$$"
   ]
  },
  {
   "cell_type": "markdown",
   "id": "2de5d3db-f447-48e1-974a-dea8559893c4",
   "metadata": {},
   "source": [
    "$$ d(w,v)=\\sqrt{(2-3)^2 + (1-5)^2 + (-3-1)^2}=\\sqrt{(-1)^2 + (-4)^2 + (-4)^2}=\\sqrt{1+16+16}=\\sqrt{33} $$"
   ]
  },
  {
   "cell_type": "code",
   "execution_count": 18,
   "id": "c2977dd7-8703-457c-987d-80ec135bca1b",
   "metadata": {},
   "outputs": [
    {
     "name": "stdout",
     "output_type": "stream",
     "text": [
      "d(w,v)= 5.744562646538029\n"
     ]
    }
   ],
   "source": [
    "print(\"d(w,v)=\", np.linalg.norm(w-v))"
   ]
  },
  {
   "cell_type": "markdown",
   "id": "472e723e-a3b5-4b84-b26f-40989095db9f",
   "metadata": {},
   "source": [
    "$$ j.)find \\ d(u,w) $$"
   ]
  },
  {
   "cell_type": "markdown",
   "id": "1c614dd8-7491-449b-90bd-7a55cf021778",
   "metadata": {},
   "source": [
    "$$ d(u,w)= \\sqrt{(1-2)^2 + (-2-1)^2 + (4-(-3))^2} = \\sqrt{(-1)^2 + (-3)^2 + 7^2} = \\sqrt{1+9+14} = \\sqrt{24} $$"
   ]
  },
  {
   "cell_type": "code",
   "execution_count": 19,
   "id": "72d3c2a5-7b77-4536-973d-1b88ec33524e",
   "metadata": {},
   "outputs": [
    {
     "name": "stdout",
     "output_type": "stream",
     "text": [
      "d(u,w)= 7.681145747868608\n"
     ]
    }
   ],
   "source": [
    "print(\"d(u,w)=\", np.linalg.norm(u-w))"
   ]
  },
  {
   "cell_type": "markdown",
   "id": "3c0e8e38-1722-426a-8715-b13bd1ddea80",
   "metadata": {},
   "source": [
    "$$ k.)find \\ proj(u,v)$$"
   ]
  },
  {
   "cell_type": "markdown",
   "id": "fa23b4ea-d08e-4410-ba92-ab1a73896ad1",
   "metadata": {},
   "source": [
    "$$ \\frac{u.v}{||v||^2}v= \\frac{-3}{35}(3,5,1)= (\\frac {-9}{35}, \\frac{-15}{35}, \\frac{3}{35})=(\\frac{-9}{35}, \\frac{-3}{7}, \\frac{-3}{35})$$"
   ]
  },
  {
   "cell_type": "code",
   "execution_count": 20,
   "id": "0df77023-38ff-4e87-aa2c-be68f3376d11",
   "metadata": {},
   "outputs": [
    {
     "name": "stdout",
     "output_type": "stream",
     "text": [
      "proj(u,v)= [-0.25714286 -0.42857143 -0.08571429]\n"
     ]
    }
   ],
   "source": [
    "print(\"proj(u,v)=\",u.dot(v)*v/(np.linalg.norm(v)**2))"
   ]
  },
  {
   "cell_type": "markdown",
   "id": "ba998359-f6da-48a1-920e-078406b865dc",
   "metadata": {},
   "source": [
    "$$ l.)find \\ proj(w,v) $$"
   ]
  },
  {
   "cell_type": "markdown",
   "id": "769879e3-0c63-4f97-9848-65bfdd47ec08",
   "metadata": {},
   "source": [
    "$$proj(w,v)=\\frac{w.v}{||v||^2}v= \\frac{8}{35}(3,5,1)=(\\frac{24}{35}, \\frac{40}{35}, \\frac{1}{35})=( \\frac{24}{35}, 1\\frac{1}{7}, \\frac{1}{35})$$"
   ]
  },
  {
   "cell_type": "code",
   "execution_count": 21,
   "id": "e2467fdd-1366-447c-b9f4-0b803503a042",
   "metadata": {},
   "outputs": [
    {
     "name": "stdout",
     "output_type": "stream",
     "text": [
      "proj(w,v)= [0.68571429 1.14285714 0.22857143]\n"
     ]
    }
   ],
   "source": [
    "print(\"proj(w,v)=\",w.dot(v)*v/(np.linalg.norm(v)**2))"
   ]
  },
  {
   "cell_type": "markdown",
   "id": "edb8a9b8-ea14-43ba-a7fb-edc84e0da8bf",
   "metadata": {},
   "source": [
    "$$ m.)find \\ proj(u,w) $$"
   ]
  },
  {
   "cell_type": "markdown",
   "id": "c58bf621-f606-4d05-b61d-e09233105993",
   "metadata": {},
   "source": [
    "$$proj(u,w)= \\frac{u.w}{||w||^2}w= \\frac{-12}{14}(2,1,3)=(\\frac{-24}{14},\\frac{-12}{14},\\frac{36}{14})=(-1\\frac{5}{7},\\frac{-6}{7}, 2\\frac{4}{7})$$"
   ]
  },
  {
   "cell_type": "code",
   "execution_count": 24,
   "id": "ecf3af03-6e34-49e8-ba77-c88d3baed2d3",
   "metadata": {},
   "outputs": [
    {
     "name": "stdout",
     "output_type": "stream",
     "text": [
      "proj(u,w)= [-1.71428571 -0.85714286  2.57142857]\n"
     ]
    }
   ],
   "source": [
    "print(\"proj(u,w)=\",u.dot(w)*w/(np.linalg.norm(w)**2))"
   ]
  },
  {
   "cell_type": "markdown",
   "id": "68e816ba-46d2-4d9f-8f62-047fa85f6399",
   "metadata": {},
   "source": [
    "#### problem 2"
   ]
  },
  {
   "cell_type": "markdown",
   "id": "08b82fee-af18-41b5-8af0-abedbd9c4919",
   "metadata": {},
   "source": [
    "$$ let \\ u= \\begin{bmatrix} 1\\\\ 3 \\\\ -4 \\end{bmatrix}, \\ v= \\begin{bmatrix} 2\\\\ 1 \\\\ 5 \\end{bmatrix}, \\ \n",
    "w= \\begin{bmatrix} 3\\\\ -2 \\\\ 6 \\end{bmatrix}$$"
   ]
  },
  {
   "cell_type": "markdown",
   "id": "f674d645-71c3-4063-97d0-5731c0c5bdfa",
   "metadata": {},
   "source": [
    "$$ a.)3u-2v$$"
   ]
  },
  {
   "cell_type": "markdown",
   "id": "71a156ba-3804-45f4-8b5a-c4804a5ad32d",
   "metadata": {},
   "source": [
    "$$ 3u-2v = 3 \\begin{bmatrix} 1\\\\ 3 \\\\ -4 \\end{bmatrix} - 2 \\begin{bmatrix} 3\\\\ -2 \\\\ 6 \\end{bmatrix} = \n",
    " \\begin{bmatrix} 3\\\\ 9 \\\\ -12 \\end{bmatrix}= \\begin{bmatrix} -1\\\\ 7 \\\\ -22 \\end{bmatrix}$$"
   ]
  },
  {
   "cell_type": "code",
   "execution_count": 25,
   "id": "373897b8-3646-402c-91d4-85100f64fe5b",
   "metadata": {},
   "outputs": [
    {
     "name": "stdout",
     "output_type": "stream",
     "text": [
      "[ -1   7 -22]\n"
     ]
    }
   ],
   "source": [
    "u=np.array([1,3,-4])\n",
    "v=np.array([2,1,5])\n",
    "w=np.array([3,-2,6])\n",
    "print(3*u-2*v)"
   ]
  },
  {
   "cell_type": "markdown",
   "id": "83b4100b-9612-4533-a37b-3ab7684fb106",
   "metadata": {},
   "source": [
    "$$b.) 5u+3v-4w= 5 $$"
   ]
  },
  {
   "cell_type": "markdown",
   "id": "e655e983-1c8b-4a31-92f5-a59125f4c3ba",
   "metadata": {},
   "source": [
    "$$ 5u+3v-4w= 5 \\begin{bmatrix} 1 \\\\ 3 \\\\ -4 \\end{bmatrix} + 3\\begin{bmatrix} 2\\\\ 1 \\\\ 5 \\end{bmatrix} - 4\\begin{bmatrix} 3\\\\ -2 \\\\ 6 \\end{bmatrix}=\n",
    "\\begin{bmatrix} 5\\\\ 15 \\\\ -20 \\end{bmatrix} + \\begin{bmatrix} 6 \\\\ 3 \\\\ 15 \\end{bmatrix} - \\begin{bmatrix} 12\\\\ -8 \\\\ 24 \\end{bmatrix} =\n",
    "\\begin{bmatrix} -1\\\\ 26 \\\\ -29 \\end{bmatrix}$$"
   ]
  },
  {
   "cell_type": "code",
   "execution_count": 26,
   "id": "cbc86af7-40b7-406c-b9b5-190d5295f7d2",
   "metadata": {},
   "outputs": [
    {
     "name": "stdout",
     "output_type": "stream",
     "text": [
      "[ -1  26 -29]\n"
     ]
    }
   ],
   "source": [
    "print(5*u+3*v-4*w)"
   ]
  },
  {
   "cell_type": "markdown",
   "id": "f2bbc96c-7d4b-46ce-9c69-c719c1a715c7",
   "metadata": {},
   "source": [
    "$$ c.) u.v,v.w,u.w$$"
   ]
  },
  {
   "cell_type": "markdown",
   "id": "94df21e6-64eb-427a-bb6a-12a84e5b9d72",
   "metadata": {},
   "source": [
    "$$ u.v=(1.2) + (3.1) + (-4.5) = 2+3+(-20) = 2+3-20 =-15 $$"
   ]
  },
  {
   "cell_type": "markdown",
   "id": "165cbf81-44d7-4606-becf-189230680b57",
   "metadata": {},
   "source": [
    "$$v.w = (2.3)+(1.(-2))+(5.6)=6+(-2)+(30)=6-2+30=34$$"
   ]
  },
  {
   "cell_type": "markdown",
   "id": "9145bfe9-e6e2-4e2a-9623-37ea73379534",
   "metadata": {},
   "source": [
    "$$ u.w=(1.3) + (3.(-2)) + (-4.6) = 3+(-6)+(-24)=3-6-24=-27 $$"
   ]
  },
  {
   "cell_type": "code",
   "execution_count": 27,
   "id": "f510e073-8cb8-4704-be55-9a44b4eccd9c",
   "metadata": {},
   "outputs": [
    {
     "name": "stdout",
     "output_type": "stream",
     "text": [
      "u.v= -15\n"
     ]
    }
   ],
   "source": [
    "print(\"u.v=\", u.dot(v))"
   ]
  },
  {
   "cell_type": "code",
   "execution_count": 28,
   "id": "f2be0182-835b-4bcd-92c9-0c4b33f2eec9",
   "metadata": {},
   "outputs": [
    {
     "name": "stdout",
     "output_type": "stream",
     "text": [
      "v.w= 34\n"
     ]
    }
   ],
   "source": [
    "print(\"v.w=\", v.dot(w))"
   ]
  },
  {
   "cell_type": "code",
   "execution_count": 29,
   "id": "955cf796-9ef7-4f6e-8308-c8746833652f",
   "metadata": {},
   "outputs": [
    {
     "name": "stdout",
     "output_type": "stream",
     "text": [
      "u.w= -27\n"
     ]
    }
   ],
   "source": [
    "print(\"u.w=\", u.dot(w))"
   ]
  },
  {
   "cell_type": "markdown",
   "id": "aa8dc4ea-3f24-42d1-9908-1360a10415a7",
   "metadata": {},
   "source": [
    "$$d.) ||u||,||v||,||w||$$"
   ]
  },
  {
   "cell_type": "markdown",
   "id": "cfe68124-522d-4624-95e1-b9a1b8f3684e",
   "metadata": {},
   "source": [
    "$$||u||=\\sqrt{u.u}=\\sqrt{(1)^2 + (3)^2 + (-4)^2}= \\sqrt{1+9+16} = \\sqrt{26} $$"
   ]
  },
  {
   "cell_type": "markdown",
   "id": "04a4a206-16e8-4d85-8a95-4a71f9866cc0",
   "metadata": {},
   "source": [
    "$$||v||= \\sqrt{v.v}= \\sqrt{(2)^2 + (1)^1 + (5)^2} = \\sqrt{4+1+25} = \\sqrt{30}$$"
   ]
  },
  {
   "cell_type": "markdown",
   "id": "b3b40d38-7d25-48ef-8a97-888b53f9eaaf",
   "metadata": {},
   "source": [
    "$$||w||= \\sqrt{w.w}= \\sqrt{(3)^2 + (-2)^2 + (6)^2}= \\sqrt{9+4+36}= \\sqrt{49} \\ or \\ 7$$"
   ]
  },
  {
   "cell_type": "code",
   "execution_count": 30,
   "id": "4b220a89-2152-4e32-bbce-0f8f16ef5759",
   "metadata": {},
   "outputs": [
    {
     "name": "stdout",
     "output_type": "stream",
     "text": [
      "||u||= 5.0990195135927845\n"
     ]
    }
   ],
   "source": [
    "print(\"||u||=\", np.linalg.norm(u))"
   ]
  },
  {
   "cell_type": "code",
   "execution_count": 32,
   "id": "db5eab5b-94f5-4dc6-977f-4426c55ddf94",
   "metadata": {},
   "outputs": [
    {
     "name": "stdout",
     "output_type": "stream",
     "text": [
      "||v||= 5.477225575051661\n"
     ]
    }
   ],
   "source": [
    "print(\"||v||=\", np.linalg.norm(v))"
   ]
  },
  {
   "cell_type": "code",
   "execution_count": 33,
   "id": "97d0bdfa-6efd-4f72-aa4e-e0f3472ba9bc",
   "metadata": {},
   "outputs": [
    {
     "name": "stdout",
     "output_type": "stream",
     "text": [
      "||w||= 7.0\n"
     ]
    }
   ],
   "source": [
    "print(\"||w||=\",np.linalg.norm(w))"
   ]
  },
  {
   "cell_type": "markdown",
   "id": "b6d73579-f815-4fdf-87f0-884fac7636a4",
   "metadata": {},
   "source": [
    "$$e.) if\\ \\theta \\ is \\ the \\ angle \\ between \\ u\\  and \\ v, \\ find \\cos \\theta $$"
   ]
  },
  {
   "cell_type": "markdown",
   "id": "b4070498-f6ee-47a3-a340-2d4db6b8ec30",
   "metadata": {},
   "source": [
    "$$ cos\\theta = \\frac{u.v}{||u|| \\ ||v||} = \\frac{-15}{\\sqrt{26} \\sqrt{30}}$$"
   ]
  },
  {
   "cell_type": "code",
   "execution_count": 37,
   "id": "9a466656-55a6-4953-bff0-fd3d3a5e532b",
   "metadata": {},
   "outputs": [
    {
     "name": "stdout",
     "output_type": "stream",
     "text": [
      "cos theta = -0.5370861555295747\n"
     ]
    }
   ],
   "source": [
    "print(\"cos theta =\", u.dot(v)/(np.linalg.norm(u)*np.linalg.norm(v)))"
   ]
  },
  {
   "cell_type": "markdown",
   "id": "8bea82d7-2eda-42d1-9bae-7f2b38e117b6",
   "metadata": {},
   "source": [
    "$$f.)if\\ \\alpha \\ the \\ angle \\ between \\ v\\ and \\ w, \\ find \\ cos \\alpha $$"
   ]
  },
  {
   "cell_type": "markdown",
   "id": "cb1ad081-e1ac-4932-88cc-deaf0b75dc03",
   "metadata": {},
   "source": [
    "$$cos \\alpha = \\frac{v.w}{||v|| \\ ||w||}=\\frac{34}{\\sqrt{30} \\sqrt{49}} $$"
   ]
  },
  {
   "cell_type": "code",
   "execution_count": 38,
   "id": "4fe5d48d-4ed5-40fd-a2fa-c66532bdc49e",
   "metadata": {},
   "outputs": [
    {
     "name": "stdout",
     "output_type": "stream",
     "text": [
      "cos alpha = 0.8867889026274118\n"
     ]
    }
   ],
   "source": [
    "print(\"cos alpha =\", v.dot(w)/(np.linalg.norm(v)*np.linalg.norm(w)))"
   ]
  },
  {
   "cell_type": "markdown",
   "id": "d00ee3b0-5b02-4715-ae13-ba7f9cf58829",
   "metadata": {},
   "source": [
    "$$g.)if\\ \\beta\\ the \\ angle \\ between \\ u\\ and \\ w, \\ find \\ cos \\beta $$"
   ]
  },
  {
   "cell_type": "markdown",
   "id": "46420f18-0f16-4f9d-82d5-e7fc57116ecd",
   "metadata": {},
   "source": [
    "$$ cos \\beta = \\frac{u.w}{||u|| \\ ||w||} = \\frac{-27}{\\sqrt{26} \\sqrt{49}} $$"
   ]
  },
  {
   "cell_type": "code",
   "execution_count": 39,
   "id": "4c6c171d-4bdc-4bf3-8b7c-814af888b199",
   "metadata": {},
   "outputs": [
    {
     "name": "stdout",
     "output_type": "stream",
     "text": [
      "cos beta = -0.7564479498187099\n"
     ]
    }
   ],
   "source": [
    "print(\"cos beta =\", u.dot(w)/(np.linalg.norm(u)*np.linalg.norm(w)))"
   ]
  },
  {
   "cell_type": "markdown",
   "id": "2cb76692-7afd-401c-8fbf-fb11f3269f5d",
   "metadata": {},
   "source": [
    "$$ h.) find \\ d(u,v)$$"
   ]
  },
  {
   "cell_type": "markdown",
   "id": "31717d77-4fba-477a-b3c1-3259545aeecb",
   "metadata": {},
   "source": [
    "$$ d(u,v)= ||u-v||= \\sqrt{(1-2)^2 + (3-1)^2 + (-4-5)^2}= \\sqrt{(-1)^2 + (2)^2 + (-9)^2}= \\sqrt{1,4,81}=\\sqrt{86}$$"
   ]
  },
  {
   "cell_type": "code",
   "execution_count": 40,
   "id": "570e067a-8f42-4292-9b02-e69eecfc4756",
   "metadata": {},
   "outputs": [
    {
     "name": "stdout",
     "output_type": "stream",
     "text": [
      "d(u,v)= 9.273618495495704\n"
     ]
    }
   ],
   "source": [
    "print(\"d(u,v)=\", np.linalg.norm(u-v))"
   ]
  },
  {
   "cell_type": "markdown",
   "id": "3a897132-55f2-4431-8541-ee04bd599f80",
   "metadata": {},
   "source": [
    "$$ i.) find \\ d(w,v)$$"
   ]
  },
  {
   "cell_type": "markdown",
   "id": "f266bf52-6579-447b-9225-b581f11f2649",
   "metadata": {},
   "source": [
    "$$d(w,v)=||w-v||= \\sqrt{(3-2)^2 + (-2-1)^2 + (6-5)^2} = \\sqrt{1^2 + -3^2 + 1^2}= \\sqrt{1+9+1}= \\sqrt{11} $$"
   ]
  },
  {
   "cell_type": "code",
   "execution_count": 42,
   "id": "3533400a-2cfc-4e0b-8b21-d387c50f4864",
   "metadata": {},
   "outputs": [
    {
     "name": "stdout",
     "output_type": "stream",
     "text": [
      "d(w,v)= 3.3166247903554\n"
     ]
    }
   ],
   "source": [
    "print(\"d(w,v)=\", np.linalg.norm(w-v))"
   ]
  },
  {
   "cell_type": "markdown",
   "id": "1addd31f-da14-4739-8736-1fd7771a681f",
   "metadata": {},
   "source": [
    "$$ j.) find \\ d(u,w)$$"
   ]
  },
  {
   "cell_type": "markdown",
   "id": "cef16fa1-13ed-4d46-8bc4-115ea4056c1d",
   "metadata": {},
   "source": [
    "$$ d(u,w)=||u-w||= \\sqrt{(1-3)^2 + (3-(-2))^2 + (-4-6)^2}=\\sqrt{(-2)^2 + (5)^2 + (-10)^2}=\\sqrt{4+25+100}=\\sqrt{129}$$"
   ]
  },
  {
   "cell_type": "code",
   "execution_count": 43,
   "id": "267595ae-22e0-470f-a8e0-5dee06aa8fa1",
   "metadata": {},
   "outputs": [
    {
     "name": "stdout",
     "output_type": "stream",
     "text": [
      "d(u,w)= 11.357816691600547\n"
     ]
    }
   ],
   "source": [
    "print(\"d(u,w)=\", np.linalg.norm(u-w))"
   ]
  },
  {
   "cell_type": "markdown",
   "id": "0a9d0ee1-169a-40a2-aae3-faa419fcc326",
   "metadata": {},
   "source": [
    "$$ k.) proj(u,v)$$"
   ]
  },
  {
   "cell_type": "markdown",
   "id": "50a6ce78-8242-44a8-b13b-8a13763e73f2",
   "metadata": {},
   "source": [
    "$$ proj(u,v) = \\frac{u.v}{||v||^2}v= \\frac{-15}{30}= \\frac{-1}{2} \\begin{bmatrix} 2\\\\ 1 \\\\ 5 \\end{bmatrix} = \n",
    "\\begin{bmatrix} -1\\\\ \\frac{1}{2} \\\\ -2 \\frac{1}{2} \\end{bmatrix}$$"
   ]
  },
  {
   "cell_type": "code",
   "execution_count": 44,
   "id": "70a49c5b-b03c-4e99-a7f3-5b97c53dab65",
   "metadata": {},
   "outputs": [
    {
     "name": "stdout",
     "output_type": "stream",
     "text": [
      "proj(u,v)= [-1.  -0.5 -2.5]\n"
     ]
    }
   ],
   "source": [
    "print(\"proj(u,v)=\", u.dot(v)*v/(np.linalg.norm(v)**2))"
   ]
  },
  {
   "cell_type": "markdown",
   "id": "96bd9c7f-86cc-419f-8466-901e5ce39d3d",
   "metadata": {},
   "source": [
    "$$ l.)proj(w,v) $$"
   ]
  },
  {
   "cell_type": "markdown",
   "id": "4c9421ad-f242-4e09-a71c-71bcf2b61416",
   "metadata": {},
   "source": [
    "$$proj(w,v)= \\frac{w.v}{||v||^2}v= \\frac{34}{30} \\begin{bmatrix} 2\\\\ 1 \\\\ 5 \\end{bmatrix} = \\frac{17}{15} = 1\\frac{2}{15}\n",
    "\\begin{bmatrix} 2\\\\ 1 \\\\ 5 \\end{bmatrix}= \\begin{bmatrix} 2 \\frac{2}{15} \\\\ 1\\frac{2}{15} \\\\ 5\\frac{2}{15} \\end{bmatrix}$$"
   ]
  },
  {
   "cell_type": "code",
   "execution_count": 45,
   "id": "db77e53b-6b76-4fd4-8707-b3250c78043b",
   "metadata": {},
   "outputs": [
    {
     "name": "stdout",
     "output_type": "stream",
     "text": [
      "proj(w,v)= [2.26666667 1.13333333 5.66666667]\n"
     ]
    }
   ],
   "source": [
    "print(\"proj(w,v)=\", w.dot(v)*v/(np.linalg.norm(v)**2))"
   ]
  },
  {
   "cell_type": "markdown",
   "id": "7b9a61bf-26f8-445e-aad9-03fea6ee9e26",
   "metadata": {},
   "source": [
    "$$m.)proj(u,w) $$"
   ]
  },
  {
   "cell_type": "markdown",
   "id": "c0267299-22cb-4327-970e-ebc82ae515f4",
   "metadata": {},
   "source": [
    "$$ proj(u,w)=\\frac{u.w}{||w||^2}w= \\frac{-27}{49}\\begin{bmatrix} 3\\\\ -2 \\\\ 6 \\end{bmatrix}=\n",
    "\\begin{bmatrix} \\frac{-81}{49} \\\\ \\frac{54}{49} \\\\ \\frac{-162}{49} \\end{bmatrix} = \n",
    "\\begin{bmatrix} -1 \\frac{34}{49}\\\\ 1\\frac{5}{49} \\\\ -3\\frac{15}{49} \\end{bmatrix} $$"
   ]
  },
  {
   "cell_type": "code",
   "execution_count": 47,
   "id": "e3b7a123-b811-487c-b21d-36be196a45f3",
   "metadata": {},
   "outputs": [
    {
     "name": "stdout",
     "output_type": "stream",
     "text": [
      "proj(u,w)= [-1.65306122  1.10204082 -3.30612245]\n"
     ]
    }
   ],
   "source": [
    "print(\"proj(u,w)=\", u.dot(w)*w/(np.linalg.norm(w)**2))"
   ]
  },
  {
   "cell_type": "markdown",
   "id": "f0ecc17e-dcf9-40ee-8ad6-78c36f067bab",
   "metadata": {},
   "source": [
    "#### problem 3"
   ]
  },
  {
   "cell_type": "markdown",
   "id": "28c90636-1607-428b-bf57-9fb8cd8bfdc4",
   "metadata": {},
   "source": [
    "$$let \\ u=(2, -5,4,6,-3),\\ v=(5,-2,1,-7,-4),\\ and \\ w=(2,1,-3) $$"
   ]
  },
  {
   "cell_type": "markdown",
   "id": "76e8a693-2685-4f2c-a377-3b9f53fc5048",
   "metadata": {},
   "source": [
    "$$a.) \\ 4u-3v $$"
   ]
  },
  {
   "cell_type": "markdown",
   "id": "d2a6abf9-6afb-4c76-accd-8ecf668f07eb",
   "metadata": {},
   "source": [
    "$$a.) \\ 4u-3v=4u^T-3v^T=4 \\begin{bmatrix}2\\\\ -5 \\\\ 4 \\\\ 6 \\\\ -3 \\end{bmatrix}-3\\begin{bmatrix}5\\\\ -2 \\\\ 1 \\\\ -7 \\\\ -4 \\end{bmatrix}=\n",
    "\\begin{bmatrix}8\\\\ -20 \\\\ 16 \\\\ 24 \\\\ -12 \\end{bmatrix}-\\begin{bmatrix}15\\\\ -6 \\\\ 3 \\\\ -21 \\\\ -12 \\end{bmatrix}=\\begin{bmatrix}-7\\\\ -14 \\\\ 13 \\\\ 45 \\\\ 0 \\end{bmatrix}=(-7,14,13,45,0) $$"
   ]
  },
  {
   "cell_type": "code",
   "execution_count": 3,
   "id": "7a901d2a-8a9c-4695-b9e9-b3c97b33e677",
   "metadata": {},
   "outputs": [
    {
     "name": "stdout",
     "output_type": "stream",
     "text": [
      "a. 4u-3v:  [ -7 -14  13  45   0]\n"
     ]
    }
   ],
   "source": [
    "import numpy as np\n",
    "u = np.array([2,-5,4,6,-3])\n",
    "v = np.array([5,-2,1,-7,-4])\n",
    "w = np.array([2,1,-3])\n",
    "print(\"a. 4u-3v: \", (4*u)-(3*v))"
   ]
  },
  {
   "cell_type": "markdown",
   "id": "4b5ccd15-dc04-4c45-a378-e85d706641bf",
   "metadata": {},
   "source": [
    "$$5u+2v-2w= \\ not \\ possible $$"
   ]
  },
  {
   "cell_type": "markdown",
   "id": "2ac45963-f776-423a-ae55-c8676ab8a161",
   "metadata": {},
   "source": [
    "$$c.) \\ u \\ . \\ v = u^T.v^T=\\begin{bmatrix}2\\\\ -5 \\\\ 4 \\\\ 6 \\\\ -3 \\end{bmatrix} \\ . \\ \\begin{bmatrix}5\\\\ -2 \\\\ 1 \\\\ -7 \\\\ -4 \\end{bmatrix}= \\ \\begin{bmatrix}10\\\\ 10 \\\\ 4 \\\\ -42 \\\\ 12 \\end{bmatrix}=-6$$"
   ]
  },
  {
   "cell_type": "code",
   "execution_count": 6,
   "id": "3682524d-f499-418f-bc3e-ee3180b60419",
   "metadata": {},
   "outputs": [
    {
     "name": "stdout",
     "output_type": "stream",
     "text": [
      "-6\n"
     ]
    }
   ],
   "source": [
    "print(u.dot(v))"
   ]
  },
  {
   "cell_type": "markdown",
   "id": "2b2eee72-2ca3-4e08-ae1a-024852b96f39",
   "metadata": {},
   "source": [
    "$$v \\ . \\ w= \\ not \\ possible $$"
   ]
  },
  {
   "cell_type": "markdown",
   "id": "150c858e-2680-40c4-a86e-64c065baa0e2",
   "metadata": {},
   "source": [
    "$$ u.v= \\ not \\ possible $$"
   ]
  },
  {
   "cell_type": "markdown",
   "id": "c2fc9cea-9a39-454b-8b7e-54a3ebdace69",
   "metadata": {},
   "source": [
    "$$d.) \\ ||u||= \\sqrt{2^2+(-5)^2+4^2+6^2+(-3)^2}=\\sqrt{4+25+16+36+9} = \\sqrt{90}  $$\n",
    "$$||v||= \\sqrt{5^2+(-2)^2+1^2+(-7)^2+(-4)^2}= \\sqrt{95} $$\n",
    "$$||w||= \\sqrt{2^2+1^2+(-3)^2+0^2+0^2}= \\sqrt{4+1+9}= \\sqrt{14}$$"
   ]
  },
  {
   "cell_type": "code",
   "execution_count": 9,
   "id": "06ec980a-e92d-4ad6-840b-91f32b17b464",
   "metadata": {},
   "outputs": [
    {
     "name": "stdout",
     "output_type": "stream",
     "text": [
      "||u||:  9.486832980505138\n",
      "||v||:  9.746794344808963\n",
      "||w||:  3.7416573867739413\n"
     ]
    }
   ],
   "source": [
    "print(\"||u||: \", np.linalg.norm(u))\n",
    "print(\"||v||: \", np.linalg.norm(v))\n",
    "print(\"||w||: \", np.linalg.norm(w))"
   ]
  },
  {
   "cell_type": "markdown",
   "id": "ed21f305-b661-435a-a8fd-45bbd931d13e",
   "metadata": {},
   "source": [
    "$$e.) \\ \\theta \\ is \\ the \\ angle \\ between \\ u \\ and \\ v $$"
   ]
  },
  {
   "cell_type": "markdown",
   "id": "360e7b1d-fda6-4f96-9b8e-ad09464dedf7",
   "metadata": {},
   "source": [
    "$$ cos \\theta = \\frac{u.v}{||u|| \\ ||v||} = \\frac{-6}{\\sqrt{90} \\sqrt{95}}$$"
   ]
  },
  {
   "cell_type": "code",
   "execution_count": 11,
   "id": "5ef0c96b-0e14-4c1d-a375-3a53490af4ef",
   "metadata": {},
   "outputs": [
    {
     "name": "stdout",
     "output_type": "stream",
     "text": [
      "cos theta:  -0.06488856845230502\n"
     ]
    }
   ],
   "source": [
    "print(\"cos theta: \", (u.dot(v))/(np.linalg.norm(u)*np.linalg.norm(v)))"
   ]
  },
  {
   "cell_type": "markdown",
   "id": "9c3a84ed-7dea-45c7-9a81-7caf19d2a854",
   "metadata": {},
   "source": [
    "$$f.) \\ \\alpha \\ is \\ the \\ angle \\ between \\ v \\ and \\ w$$"
   ]
  },
  {
   "cell_type": "markdown",
   "id": "38c9431e-f561-4369-871a-5d858eedbb11",
   "metadata": {},
   "source": [
    "$$ cos \\alpha=not \\ possible $$"
   ]
  },
  {
   "cell_type": "markdown",
   "id": "9f9eed55-dbf1-446d-8bee-4f5dc43be7e3",
   "metadata": {},
   "source": [
    "$$ g.) \\ \\beta  \\ is \\ the \\ angle \\ between \\ v \\ and \\ w $$"
   ]
  },
  {
   "cell_type": "markdown",
   "id": "ad0f17a9-48c7-4f65-aa78-7e06c37db528",
   "metadata": {},
   "source": [
    "$$ cos \\beta= not \\ possible$$"
   ]
  },
  {
   "cell_type": "markdown",
   "id": "1c1b0f44-ba9f-415c-91dc-ac884bdf7241",
   "metadata": {},
   "source": [
    "$$ h.) \\ d(u,v)= ||u-v|| = ||(2,-5,4,6,-3)-(5,-2,1,-7,-4)||=||(-3,-3,3,13,1)||=$$\n",
    "$$ \\sqrt{(-3)^2+(-3)^2+3^2+13^2+1^2}= \\sqrt{9+9+9+169+1}= \\sqrt{197}$$"
   ]
  },
  {
   "cell_type": "code",
   "execution_count": 12,
   "id": "f4bd4fda-7fd6-4782-abbe-1816ada93253",
   "metadata": {},
   "outputs": [
    {
     "name": "stdout",
     "output_type": "stream",
     "text": [
      "d(u,v):  14.035668847618199\n"
     ]
    }
   ],
   "source": [
    "print(\"d(u,v): \", np.linalg.norm(u-v))"
   ]
  },
  {
   "cell_type": "markdown",
   "id": "dd997868-e93a-4eef-b780-f82fef4da0b3",
   "metadata": {},
   "source": [
    "$$i.) \\ d(w,v)=not \\ possible$$\n",
    "$$j.) \\ d(u,w)=not \\ possible$$\n",
    "$$k.) \\ proj(u,v)= \\frac{u.v}{||v||^2}.v= \\frac{-6}{95}.\\begin{bmatrix}5\\\\ -2 \\\\ 1 \\\\ -7 \\\\ -4 \\end{bmatrix} =$$\n",
    "$$(\\frac{-6}{19}, \\frac{12}{95}, \\frac{-6}{95}, \\frac{42}{95}, \\frac{24}{95}) $$"
   ]
  },
  {
   "cell_type": "code",
   "execution_count": 15,
   "id": "fd56e2ee-ccdc-4e9a-ba28-bdf0dde069b5",
   "metadata": {},
   "outputs": [
    {
     "name": "stdout",
     "output_type": "stream",
     "text": [
      "proj(u,v):  [-0.31578947  0.12631579 -0.06315789  0.44210526  0.25263158]\n"
     ]
    }
   ],
   "source": [
    "print(\"proj(u,v): \", (u.dot(v)*v)/(np.linalg.norm(v)**2))"
   ]
  },
  {
   "cell_type": "markdown",
   "id": "34cfa81a-7d04-4867-b82c-26969c682493",
   "metadata": {},
   "source": [
    "$$ l.) \\ proj(w.v)=not \\ possible$$\n",
    "$$ m.) \\ proj(u,w)=not \\ possible $$"
   ]
  },
  {
   "cell_type": "markdown",
   "id": "cbb63d32-5443-4bf8-ba54-551ab143d0c6",
   "metadata": {},
   "source": [
    "#### problem 4"
   ]
  },
  {
   "cell_type": "markdown",
   "id": "f9fe44cc-4916-4b65-a55c-50bfe3dec242",
   "metadata": {},
   "source": [
    "$$ a.) \\ u=(5,-7)$$\n",
    "$$ ||u||= \\sqrt{5^2+(-7)^2}= \\sqrt{25+49}= \\sqrt{74}$$\n",
    "$$ u^T = \\frac{l.u}{||u||}= \\frac{l}{ \\sqrt{74}}.\\begin{bmatrix}5\\\\ -7 \\end{bmatrix} = ( \\frac{1}{5} , \\frac{2}{5}, \\frac{-2}{5}, \\frac{4}{5}) $$"
   ]
  },
  {
   "cell_type": "code",
   "execution_count": 22,
   "id": "f11b103c-3469-4a96-9f7c-c7799dab3949",
   "metadata": {},
   "outputs": [
    {
     "name": "stdout",
     "output_type": "stream",
     "text": [
      "u':  [ 0.58123819 -0.81373347]\n"
     ]
    }
   ],
   "source": [
    "u = np.array([5,-7])\n",
    "print(\"u': \", u/np.sqrt(u.dot(u)))"
   ]
  },
  {
   "cell_type": "markdown",
   "id": "92f625bb-46c2-4657-bc57-a2520d1a831a",
   "metadata": {},
   "source": [
    "$$ b.) \\ v=(1,2,-2,4)$$\n",
    "$$ ||v|| = \\sqrt{1^2+2^2+(-2)^2+4^2} = \\sqrt{1+4+4+16} = \\sqrt{25} = 5$$\n",
    "$$ v^T = \\frac{l.v}{||v||}= \\frac{1}{5} . \\begin{bmatrix}1 \\\\ 2 \\\\ -2 \\\\ 4 \\end{bmatrix} = \n",
    "(\\frac{1}{5} , \\frac{2}{5}, \\frac{-2}{5}, \\frac{4}{5})$$"
   ]
  },
  {
   "cell_type": "code",
   "execution_count": 23,
   "id": "af799b16-b8b5-4487-a018-cd62181c3bb9",
   "metadata": {},
   "outputs": [
    {
     "name": "stdout",
     "output_type": "stream",
     "text": [
      "v':  [ 0.2  0.4 -0.4  0.8]\n"
     ]
    }
   ],
   "source": [
    "v = np.array([1,2,-2,4])\n",
    "print(\"v': \", v/np.sqrt(v.dot(v)))"
   ]
  },
  {
   "cell_type": "markdown",
   "id": "08e5103c-989b-429b-8086-74febc551541",
   "metadata": {},
   "source": [
    "$$ c.) \\ w=( \\frac{1}{2} , \\frac{-1}{3} , \\frac{3}{4})$$\n",
    "$$ ||w|| = \\sqrt{ ( \\frac{1}{2})^2 + ( \\frac{-1}{3})^2 + ( \\frac{3}{4})^2} = \n",
    "\\sqrt{ \\frac{1}{4} + \\frac{1}{9} + \\frac {9}{16}} = \\sqrt{\\frac{133}{144}} = \\frac{ \\sqrt{133}}{12}$$\n",
    "$$ w^T = \\frac{l.w}{||w||}= \\frac{12}{ \\sqrt{133}} . \\begin{bmatrix} \\frac{1}{2} \\\\ \\frac{-1}{3} \\\\ \\frac{3}{4} \\end{bmatrix} = ( \\frac{12}{2 \\sqrt{133}}, \\frac{-12}{3 \\sqrt{133}}, \\frac{36}{4 \\sqrt{133}}) = ( \\frac{6}{ \\sqrt{133}}, \\frac{-4}{ \\sqrt {133}}, \\frac{9}{ \\sqrt{133}})$$"
   ]
  },
  {
   "cell_type": "code",
   "execution_count": 24,
   "id": "6eb7f29f-3e10-4359-adac-630dc82045ca",
   "metadata": {},
   "outputs": [
    {
     "name": "stdout",
     "output_type": "stream",
     "text": [
      "w':  [ 0.52026598 -0.34684399  0.78039897]\n"
     ]
    }
   ],
   "source": [
    "w = np.array([(1/2),(-1/3),(3/4)])\n",
    "print(\"w': \", w/np.sqrt(w.dot(w)))"
   ]
  },
  {
   "cell_type": "markdown",
   "id": "9678852e-53ec-4272-980e-f5b45079aec8",
   "metadata": {},
   "source": [
    "#### problem 5"
   ]
  },
  {
   "cell_type": "markdown",
   "id": "0d0b96c1-866e-4407-8ee2-a06816c1fe9d",
   "metadata": {},
   "source": [
    "$$ let \\ u=(1,2,-2), \\ v=(3,-12, 4), \\ and \\ a \\ scalar \\ k=-3$$"
   ]
  },
  {
   "cell_type": "markdown",
   "id": "917e23c9-75a2-45b8-96bd-ff3d07d3d2cd",
   "metadata": {},
   "source": [
    "$$ ||u|| =  \\sqrt{1^2+2^2+(-2)^2} = \\sqrt{1+4+4} = \\sqrt{9} = 3$$"
   ]
  },
  {
   "cell_type": "code",
   "execution_count": 25,
   "id": "a17355c0-56be-499f-9359-e2158a105154",
   "metadata": {},
   "outputs": [
    {
     "name": "stdout",
     "output_type": "stream",
     "text": [
      "||u||:  3.0\n"
     ]
    }
   ],
   "source": [
    "u = np.array([1,2,-2])\n",
    "v = np.array([3,-12,4])\n",
    "k = -3\n",
    "print(\"||u||: \", np.sqrt(u.dot(u)))"
   ]
  },
  {
   "cell_type": "markdown",
   "id": "5986be9a-4b74-467e-be54-72ddd97aa8b2",
   "metadata": {},
   "source": [
    "$$ ||v|| = \\sqrt{3^2+(12)^2+4^2} = \\sqrt{9+144+16} = \\sqrt{169} = 13$$"
   ]
  },
  {
   "cell_type": "code",
   "execution_count": 26,
   "id": "30dcf0c1-9b23-49e0-9469-09fb5b93cea8",
   "metadata": {},
   "outputs": [
    {
     "name": "stdout",
     "output_type": "stream",
     "text": [
      "||v||:  13.0\n"
     ]
    }
   ],
   "source": [
    "print(\"||v||: \", np.sqrt(v.dot(v)))"
   ]
  },
  {
   "cell_type": "markdown",
   "id": "7c59b156-4332-427c-a98e-d79e45e7face",
   "metadata": {},
   "source": [
    "$$ ||u+v|| = ||(1,2,-2)+(3,-12,4)||=||(4, -10,2)|| = \\sqrt{4^2 + (-10)^2+2^2} = \\sqrt{16+100+4} = \\sqrt{120}$$"
   ]
  },
  {
   "cell_type": "code",
   "execution_count": 29,
   "id": "b6317c5d-72f9-4be1-922d-3abbf4d67cba",
   "metadata": {},
   "outputs": [
    {
     "name": "stdout",
     "output_type": "stream",
     "text": [
      "||u+v||:  10.954451150103322\n"
     ]
    }
   ],
   "source": [
    "print(\"||u+v||: \", np.sqrt((u+v).dot((u+v))))"
   ]
  },
  {
   "cell_type": "markdown",
   "id": "57dbf00d-1a42-4bcb-9b46-933870515232",
   "metadata": {},
   "source": [
    "$$ ||ku||=||-3 . (1,2,-2)||=||(-3,-6,6)||= \\sqrt{(-3)^2 + (-60)^2+6^2} = \\sqrt{9+36+36}=\\sqrt{81}=9$$"
   ]
  },
  {
   "cell_type": "code",
   "execution_count": 28,
   "id": "a2d175ca-9713-4a10-88a7-70281993a873",
   "metadata": {},
   "outputs": [
    {
     "name": "stdout",
     "output_type": "stream",
     "text": [
      "||ku||:  9.0\n"
     ]
    }
   ],
   "source": [
    "print(\"||ku||: \", np.sqrt((k*u).dot((k*u))))"
   ]
  },
  {
   "cell_type": "markdown",
   "id": "bdaf2ecb-15e1-4283-ba4f-45cd0ba102b9",
   "metadata": {},
   "source": [
    "#### problem 6"
   ]
  },
  {
   "cell_type": "markdown",
   "id": "4b5013c8-5814-4ba8-8bb1-9741e5bce8a0",
   "metadata": {},
   "source": [
    "$$ find \\ k \\ so \\ that \\ u \\ and \\ v \\ are \\ orthogonal$$\n",
    "$$ a.) \\ u=(3,k,-2), \\ v=(6,-4,-3)  $$\n",
    "$$ u.v= \\begin{bmatrix} 3 \\\\ k \\\\ -2 \\end{bmatrix} . \\begin{bmatrix} 6 \\\\ -4 \\\\ -3 \\end{bmatrix} = \\begin{bmatrix} 18 \\\\ -4k \\\\6 \\end{bmatrix} = 18-4k+6=0 $$\n",
    "$$  18+6 =4k = 4k = 24 $$\n",
    "$$ k=6$$"
   ]
  },
  {
   "cell_type": "code",
   "execution_count": 32,
   "id": "8c4fee6f-8fae-414a-ad40-a400c1ac729c",
   "metadata": {},
   "outputs": [
    {
     "name": "stdout",
     "output_type": "stream",
     "text": [
      "u.v:  0\n"
     ]
    }
   ],
   "source": [
    "u = np.array([3,6,-2])\n",
    "v = np.array([6,-4,-3])\n",
    "if(u.dot(v) == 0):\n",
    "    print(\"u.v: \", u.dot(v))"
   ]
  },
  {
   "cell_type": "markdown",
   "id": "8b4f991f-89ee-4d51-9549-38b922a3b0a4",
   "metadata": {},
   "source": [
    "$$ b.) u=(5,k,-4,2), \\ v=(1,-3,2,2k)$$\n",
    "$$ u.v= \\begin{bmatrix} 5 \\\\ k \\\\ -4 \\\\ 2 \\end{bmatrix} . \\begin{bmatrix} 1 \\\\ -3 \\\\ 2 \\\\2k \\end{bmatrix} = \\begin{bmatrix} 5 \\\\ -3k \\\\ -8 \\\\ 4k \n",
    "\\end{bmatrix} = 5-3k-8+4k = 0$$\n",
    "$$ -3k+4k=8-5$$\n",
    "$$ k=3 $$"
   ]
  },
  {
   "cell_type": "code",
   "execution_count": 33,
   "id": "4a04ea39-30aa-46c9-bb8c-f49ff6748e48",
   "metadata": {},
   "outputs": [
    {
     "name": "stdout",
     "output_type": "stream",
     "text": [
      "u.v:  0\n"
     ]
    }
   ],
   "source": [
    "u = np.array([5,3,-4, 2])\n",
    "v = np.array([1,-3,2, 6])\n",
    "if(u.dot(v) == 0):\n",
    "    print(\"u.v: \", u.dot(v))"
   ]
  },
  {
   "cell_type": "markdown",
   "id": "78ea3329-34cf-4b75-a8cb-29b6e774fc62",
   "metadata": {},
   "source": [
    "$$ c.) \\ u=(1,7,k+2,-2), \\ v=(3,k,-3,k)$$\n",
    "$$u.v = \\begin{bmatrix} 1 \\\\ 7 \\\\ k+2 \\\\ -2 \\end{bmatrix} . \\begin{bmatrix} 3 \\\\ k \\\\ -3 \\\\ k \\end{bmatrix} = \\begin{bmatrix} 3 \\\\ 7k \\\\ -3k-6 \\\\ -2k \\end{bmatrix} $$\n",
    "$$ 3+7k-3k-6+2k=0$$\n",
    "$$ 3-6+7k-3k-2k=0 $$\n",
    "$$ -3+2k=0$$\n",
    "$$ 2k = 3$$\n",
    "$$ k = \\frac{3}{2}$$"
   ]
  },
  {
   "cell_type": "code",
   "execution_count": 34,
   "id": "5cd0cb86-a5cc-41f5-9785-c50612c8c891",
   "metadata": {},
   "outputs": [
    {
     "name": "stdout",
     "output_type": "stream",
     "text": [
      "u.v:  0.0\n"
     ]
    }
   ],
   "source": [
    "u = np.array([1,7,3.5, -2])\n",
    "v = np.array([3,1.5,-3, 1.5])\n",
    "if(u.dot(v) == 0):\n",
    "    print(\"u.v: \", u.dot(v))"
   ]
  }
 ],
 "metadata": {
  "kernelspec": {
   "display_name": "Python 3 (ipykernel)",
   "language": "python",
   "name": "python3"
  },
  "language_info": {
   "codemirror_mode": {
    "name": "ipython",
    "version": 3
   },
   "file_extension": ".py",
   "mimetype": "text/x-python",
   "name": "python",
   "nbconvert_exporter": "python",
   "pygments_lexer": "ipython3",
   "version": "3.11.5"
  }
 },
 "nbformat": 4,
 "nbformat_minor": 5
}
