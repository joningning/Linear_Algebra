{
 "cells": [
  {
   "cell_type": "markdown",
   "id": "50f75c9d-a738-4bbf-8d3d-c6d3fafcb04f",
   "metadata": {},
   "source": [
    "##### Tricia Jonina B. Alcisto"
   ]
  },
  {
   "cell_type": "code",
   "execution_count": 11,
   "id": "18f32a35-cc6f-4c17-8121-f35062e321a8",
   "metadata": {},
   "outputs": [
    {
     "name": "stdout",
     "output_type": "stream",
     "text": [
      "Randomly Generated Matrix:\n",
      "[[0.11271058 0.45341772 0.95322566 0.44250424]\n",
      " [0.36696051 0.44050117 0.91948737 0.03866769]\n",
      " [0.50882511 0.76566865 0.38700106 0.31600392]\n",
      " [0.85434453 0.85003308 0.62316982 0.53240301]]\n",
      "\n",
      "Det = 0.08934383295975584\n",
      "\n",
      "Eigenvalues:\n",
      "[ 2.03605278  0.26373753 -0.48194996 -0.34522454]\n",
      "\n",
      "Eigenvectors:\n",
      "[[ 0.46383355  0.32386077 -0.82607208 -0.82199932]\n",
      " [ 0.38029089 -0.52840193  0.04503735  0.33564622]\n",
      " [ 0.44687976 -0.06057463  0.26363569  0.02191004]\n",
      " [ 0.66372868  0.78245531  0.49605723  0.45954182]]\n",
      "\n"
     ]
    }
   ],
   "source": [
    "import numpy as np\n",
    "\n",
    "def calculate_det(matrix):\n",
    "    if not is_square(matrix):\n",
    "        raise ValueError(\"Matrix must be square.\")\n",
    "\n",
    "    # Calculate determinant\n",
    "    det_value = np.linalg.det(matrix)\n",
    "\n",
    "    return det_value\n",
    "\n",
    "def calculate_eigen(matrix):\n",
    "    if not is_square(matrix):\n",
    "        raise ValueError(\"Matrix must be square.\")\n",
    "\n",
    "    eigenvalues, eigenvectors = np.linalg.eig(matrix)\n",
    "\n",
    "    return eigenvalues, eigenvectors\n",
    "\n",
    "def is_square(matrix):\n",
    "    return len(matrix.shape) == 2 and matrix.shape[0] == matrix.shape[1]\n",
    "\n",
    "n = 4\n",
    "random_matrix = np.random.rand(n, n)\n",
    "\n",
    "det_value = calculate_det(random_matrix)\n",
    "eigenvalues, eigenvectors = calculate_eigen(random_matrix)\n",
    "\n",
    "print(f\"Randomly Generated Matrix:\\n{random_matrix}\\n\")\n",
    "print(f\"Det = {det_value}\\n\")\n",
    "print(f\"Eigenvalues:\\n{eigenvalues}\\n\")\n",
    "print(f\"Eigenvectors:\\n{eigenvectors}\\n\")\n"
   ]
  },
  {
   "cell_type": "code",
   "execution_count": null,
   "id": "665e3080-df9a-4acd-8bd6-e2a450b083de",
   "metadata": {},
   "outputs": [],
   "source": []
  }
 ],
 "metadata": {
  "kernelspec": {
   "display_name": "Python 3 (ipykernel)",
   "language": "python",
   "name": "python3"
  },
  "language_info": {
   "codemirror_mode": {
    "name": "ipython",
    "version": 3
   },
   "file_extension": ".py",
   "mimetype": "text/x-python",
   "name": "python",
   "nbconvert_exporter": "python",
   "pygments_lexer": "ipython3",
   "version": "3.11.5"
  }
 },
 "nbformat": 4,
 "nbformat_minor": 5
}
