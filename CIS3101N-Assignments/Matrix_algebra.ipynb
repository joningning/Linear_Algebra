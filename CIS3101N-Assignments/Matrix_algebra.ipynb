{
 "cells": [
  {
   "cell_type": "markdown",
   "id": "08a4c14c-1592-4eae-99c8-507754ba948c",
   "metadata": {},
   "source": [
    "##### Tricia Jonina B. Alcisto"
   ]
  },
  {
   "cell_type": "markdown",
   "id": "9658bf99-2266-417d-870d-459376cc5a3f",
   "metadata": {},
   "source": [
    "1.) Without the use of any python libraries or modules, develop a function that can perform matrix addition, given two numpy matrices."
   ]
  },
  {
   "cell_type": "code",
   "execution_count": 3,
   "id": "7d1124be-c049-404a-bdb7-132257a33cf3",
   "metadata": {},
   "outputs": [
    {
     "name": "stdout",
     "output_type": "stream",
     "text": [
      "[6, 10]\n",
      "[6, 5]\n"
     ]
    }
   ],
   "source": [
    "def matrixAddition(matA, matB):\n",
    "    if len(matA) != len(matB) or len(matA[0]) != len(matB[0]):\n",
    "        raise ValueError(\"muste be nxn\")\n",
    "\n",
    "    numRows = len(matA)\n",
    "    numCols = len(matA[0])\n",
    "    resultMat = []\n",
    "\n",
    "    for i in range(numRows):\n",
    "        row = []\n",
    "        for j in range(numCols):\n",
    "            sum_element = matA[i][j] + matB[i][j]\n",
    "            row.append(sum_element)\n",
    "        resultMat.append(row)\n",
    "\n",
    "    return resultMat\n",
    "\n",
    "matrix1 = [[6, 9],\n",
    "           [4, 2]]\n",
    "matrix2 = [[0, 1],\n",
    "           [2, 3]]\n",
    "\n",
    "result = matrixAddition(matrix1, matrix2)\n",
    "\n",
    "for row in result:\n",
    "    print(row)\n"
   ]
  },
  {
   "cell_type": "markdown",
   "id": "66e6d350-02f7-48c7-bd44-6973792e2040",
   "metadata": {},
   "source": [
    "2.) Without the use of any python libraries or modules, develop a function that can multiply two numpy matrices."
   ]
  },
  {
   "cell_type": "code",
   "execution_count": 6,
   "id": "94c3d1b9-6f80-4e6b-96c3-6b38f20558af",
   "metadata": {},
   "outputs": [
    {
     "name": "stdout",
     "output_type": "stream",
     "text": [
      "[327, 47]\n",
      "[2301, 211]\n"
     ]
    }
   ],
   "source": [
    "def matrixMultiplication(matrix1, matrix2):\n",
    "    # Check if the matrices have compatible dimensions\n",
    "    if len(matrix1[0]) != len(matrix2):\n",
    "        raise ValueError(\"error value womp womp\")\n",
    "\n",
    "    rows1, cols1 = len(matrix1), len(matrix1[0])\n",
    "    rows2, cols2 = len(matrix2), len(matrix2[0])\n",
    "    result = [[0 for _ in range(cols2)] for _ in range(rows1)]\n",
    "\n",
    "    # Perform matrix multiplication\n",
    "    for i in range(rows1):\n",
    "        for j in range(cols2):\n",
    "            for k in range(cols1):\n",
    "                result[i][j] += matrix1[i][k] * matrix2[k][j]\n",
    "\n",
    "    return result\n",
    "\n",
    "matrix1 = [[1, 19], \n",
    "           [23, 2]]\n",
    "matrix2 = [[99, 9], \n",
    "           [12, 2]]\n",
    "\n",
    "result = matrixMultiplication(matrix1, matrix2)\n",
    "\n",
    "for row in result:\n",
    "    print(row)\n"
   ]
  },
  {
   "cell_type": "markdown",
   "id": "258cbe4f-b7b2-4f64-9fcd-0f62f1cc5108",
   "metadata": {},
   "source": [
    "3.) The rule of distributivity states that given two matrices 𝐴 and 𝐵 and a scalar, 𝑘, then 𝑘(𝐴+𝐵)=𝑘𝐴+𝑘𝐵. Instead of writing a proof mathematically, develop two codes for 𝑘(𝐴+𝐵) and 𝑘𝐴+𝑘𝐵."
   ]
  },
  {
   "cell_type": "code",
   "execution_count": 8,
   "id": "4441b475-b342-4fd4-b035-e11647dee06e",
   "metadata": {},
   "outputs": [
    {
     "name": "stdout",
     "output_type": "stream",
     "text": [
      "k(A + B):\n",
      "[18, 20]\n",
      "[20, 10]\n",
      "\n",
      "kA + kB:\n",
      "[18, 20]\n",
      "[20, 10]\n"
     ]
    }
   ],
   "source": [
    "def scalar_matrix_multiplication(scalar, matrix):\n",
    "    result = [[scalar * element for element in row] for row in matrix]\n",
    "    return result\n",
    "\n",
    "def matrix_addition(matrix1, matrix2):\n",
    "    result = [[matrix1[i][j] + matrix2[i][j] for j in range(len(matrix1[0]))] for i in range(len(matrix1))]\n",
    "    return result\n",
    "\n",
    "matrix_A = [\n",
    "    [3, 7],\n",
    "    [1, 2],\n",
    "]\n",
    "\n",
    "matrix_B = [\n",
    "    [6, 3],\n",
    "    [9, 3],\n",
    "]\n",
    "\n",
    "scalar_k = 2\n",
    "\n",
    "result_k_A_plus_B = scalar_matrix_multiplication(scalar_k, matrix_addition(matrix_A, matrix_B))\n",
    "\n",
    "result_kA_plus_kB = matrix_addition(scalar_matrix_multiplication(scalar_k, matrix_A),\n",
    "                                     scalar_matrix_multiplication(scalar_k, matrix_B))\n",
    "\n",
    "print(\"k(A + B):\")\n",
    "for row in result_k_A_plus_B:\n",
    "    print(row)\n",
    "\n",
    "print(\"\\nkA + kB:\")\n",
    "for row in result_kA_plus_kB:\n",
    "    print(row)"
   ]
  },
  {
   "cell_type": "markdown",
   "id": "7f7980dc-9584-4600-a404-4e3fd762cdbe",
   "metadata": {},
   "source": [
    "4. Without using a python library or modules develop a function that can extract the diagonal of a numpy matrix."
   ]
  },
  {
   "cell_type": "code",
   "execution_count": 11,
   "id": "75e60e1c-2065-4206-9388-2d910a6cb72d",
   "metadata": {},
   "outputs": [
    {
     "name": "stdout",
     "output_type": "stream",
     "text": [
      "Matrix:\n",
      "[3, 7, 2, 60]\n",
      "[12, 4, 16, 29]\n",
      "[12, 12, 7, 9]\n",
      "[10, 11, 12, 13]\n",
      "\n",
      "Diagonal of matrix:\n",
      "[3, 4, 7, 13]\n"
     ]
    }
   ],
   "source": [
    "def extract_di(matrix):\n",
    "    if not matrix:\n",
    "        return []\n",
    "\n",
    "    num_rows = len(matrix)\n",
    "    num_cols = len(matrix[0]) if matrix[0] else 0\n",
    "\n",
    "    if num_rows != num_cols:\n",
    "        return []\n",
    "\n",
    "    diagonal = []\n",
    "    for i in range(num_rows):\n",
    "        for j in range(num_cols):\n",
    "            if i == j:\n",
    "                diagonal.append(matrix[i][j])\n",
    "\n",
    "    return diagonal\n",
    "\n",
    "matrix = [\n",
    "    [3, 7, 2, 60],\n",
    "    [12, 4, 16, 29],\n",
    "    [12, 12, 7, 9],\n",
    "    [10, 11, 12, 13]\n",
    "]\n",
    "\n",
    "result = extract_di(matrix)\n",
    "\n",
    "if result:\n",
    "    print(\"Matrix:\")\n",
    "    for row in matrix:\n",
    "        print(row)\n",
    "    print(\"\\nDiagonal of matrix:\")\n",
    "    print(result)"
   ]
  },
  {
   "cell_type": "markdown",
   "id": "0bed5254-40dc-495a-869c-d0434a3b0dba",
   "metadata": {},
   "source": [
    "5.) Without using a python library or modules develop a function that can find a trace of a numpy matrix."
   ]
  },
  {
   "cell_type": "code",
   "execution_count": 18,
   "id": "b2bb298f-e428-455b-b72b-eb5dae37b215",
   "metadata": {},
   "outputs": [
    {
     "name": "stdout",
     "output_type": "stream",
     "text": [
      "Trace = 27\n"
     ]
    }
   ],
   "source": [
    "def matrix_trace(matrix):\n",
    "    if len(matrix) != len(matrix[0]):\n",
    "        return \"Matrix be nxn\"\n",
    "    \n",
    "    trace = 0\n",
    "    for i in range(len(matrix)):\n",
    "        trace += matrix[i][i] \n",
    "    \n",
    "    return trace\n",
    "\n",
    "matrix = [\n",
    "    [3, 7, 2, 60],\n",
    "    [12, 4, 16, 29],\n",
    "    [12, 12, 7, 9],\n",
    "    [10, 11, 12, 13]\n",
    "]\n",
    "\n",
    "print(\"Trace =\", matrix_trace(matrix))"
   ]
  },
  {
   "cell_type": "markdown",
   "id": "d7b6a396-495a-452a-bba1-3425754d95b1",
   "metadata": {},
   "source": [
    "### Problem Solving"
   ]
  },
  {
   "cell_type": "markdown",
   "id": "464eaf85-ff0a-4df9-b444-651ddc075300",
   "metadata": {},
   "source": [
    "1.) solve X given that:"
   ]
  },
  {
   "cell_type": "markdown",
   "id": "e47b15b9-a79d-4af9-9885-13c6d889765b",
   "metadata": {},
   "source": [
    "$$ A=\\begin{bmatrix} 1 & \\ 2 \\\\ 3 & \\ 4\\end{bmatrix} ,B=\\begin{bmatrix} -1 & \\ 0 \\\\ 1 & \\ 1\\end{bmatrix} $$"
   ]
  },
  {
   "cell_type": "markdown",
   "id": "fb75f2fc-4639-4dba-889b-811c466eb8c6",
   "metadata": {},
   "source": [
    "$$ a.) \\ 3X=A-2B \\ X= \\frac{1}{3} (A-2B)$$"
   ]
  },
  {
   "cell_type": "markdown",
   "id": "c70d5381-219d-4f61-88c6-59506420a1cc",
   "metadata": {},
   "source": [
    "$$A-2B= \\begin{bmatrix} 1 & \\ 2 \\\\ 3 & \\ 4\\end{bmatrix}-2\\begin{bmatrix} -1 & \\ 0 \\\\ 1 & \\ 1\\end{bmatrix} = \\begin{bmatrix} 1 & \\ 2 \\\\ 3 & \\ 4\\end{bmatrix} -\\begin{bmatrix} -2 & \\ 0 \\\\ 2 & \\ 2\\end{bmatrix} =\\begin{bmatrix} 3 & \\ 2 \\\\ 1 & \\ 2\\end{bmatrix}  $$"
   ]
  },
  {
   "cell_type": "code",
   "execution_count": 17,
   "id": "ec4f137b-411b-48d5-a921-f6691fa038a1",
   "metadata": {},
   "outputs": [
    {
     "name": "stdout",
     "output_type": "stream",
     "text": [
      "X =\n",
      "[[1.         0.66666667]\n",
      " [0.66666667 0.33333333]]\n"
     ]
    }
   ],
   "source": [
    "import numpy as np\n",
    "\n",
    "A = np.array([[1, 2], [4, 3]])\n",
    "B = np.array([[-1, 0], [1, 1]])\n",
    "\n",
    "result = A - 2 * B\n",
    "\n",
    "X = result / 3\n",
    "\n",
    "print(\"X =\")\n",
    "print(X)"
   ]
  },
  {
   "cell_type": "markdown",
   "id": "f8b081a4-d18d-433c-bab2-2805a3dd0f00",
   "metadata": {},
   "source": [
    "$$ b.) \\ 2(A-B+2X)=3(X-B)=2A-2B+4X=3X-3B=4X-3X=2B-2A-3B$$"
   ]
  },
  {
   "cell_type": "markdown",
   "id": "4bd9ef61-7ff9-4e94-ae00-3f44f35bd913",
   "metadata": {},
   "source": [
    "$$ X=(2B-2A-3B)=2B-2A-3B$$"
   ]
  },
  {
   "cell_type": "markdown",
   "id": "fa44922e-ac05-439d-a284-16bca95a1e8d",
   "metadata": {},
   "source": [
    "##### 2.) Write B as a linear combination of the other matrices, if possible."
   ]
  },
  {
   "cell_type": "markdown",
   "id": "d659a076-1d85-4ba4-97ff-65b4a24ecd49",
   "metadata": {},
   "source": [
    "$$ A_{1}=\\begin{bmatrix} 1 & \\ 2 \\\\ -1 & \\ 1\\end{bmatrix} , A_{2}=\\begin{bmatrix} 0 & \\ 1 \\\\ 2 & \\ 1\\end{bmatrix} , B=\\begin{bmatrix} 2 & \\ 5\\\\ 0 & \\ 3\\end{bmatrix} $$ "
   ]
  },
  {
   "cell_type": "markdown",
   "id": "844a75a1-3591-4ee3-8817-f3250a7d4a71",
   "metadata": {},
   "source": [
    "$$ A_{1}=\\begin{bmatrix} 1 & \\ 0\\\\ 0 & \\ 1\\end{bmatrix} , A_{2}=\\begin{bmatrix} 0 & \\ 1 \\\\ 1 & \\ 0\\end{bmatrix} , A_{3}=\\begin{bmatrix} 1 & \\ -1 \\\\ 1 & \\ 1\\end{bmatrix} , B=\\begin{bmatrix} 2 & \\ 5 \\\\ 0 & \\ 3\\end{bmatrix}$$"
   ]
  },
  {
   "cell_type": "markdown",
   "id": "f6eec7f6-03bd-4c53-bcd4-d5c4b78020ad",
   "metadata": {},
   "source": [
    "$$ B=c_{1} A_{1} + c_{2} A_{2} + c_{3} A_{3} = c_{3}=3B = -1A_{1}+8 A{2} + 3A_{3}$$"
   ]
  },
  {
   "cell_type": "markdown",
   "id": "f78843e4-1122-43af-9e3b-16eef5009429",
   "metadata": {},
   "source": [
    "$$ Given \\ the \\ following: \\ A= \\begin{bmatrix} 1 & \\ 2\\\\ 2 & \\ 6\\end{bmatrix} ,  b_{1} = \\begin{bmatrix} 3 \\\\ 5 \\end{bmatrix}, b_{2}=\\begin{bmatrix} -1 \\\\ 2 \\end{bmatrix}, b_{3}=\\begin{bmatrix} 2\\\\0 \\end{bmatrix} $$"
   ]
  },
  {
   "cell_type": "markdown",
   "id": "4757ba62-3c73-4cfd-a8de-be61bf17537f",
   "metadata": {},
   "source": [
    "$$ [A | \\ b_{1} \\ b_{2} \\ b_{3}]$$"
   ]
  },
  {
   "cell_type": "markdown",
   "id": "c7581c9e-a175-45f4-81e4-a37e3f7492ba",
   "metadata": {},
   "source": [
    "$$ A^{-1} = (\\frac{1}{det(A)}) * \n",
    "\\begin{bmatrix}\n",
    "d & -b \\\\\n",
    "-c & a \\\\\n",
    "\\end{bmatrix} \\\\\n",
    "det(A) = (1 * 6) - (2 * 2) = 6 - 4 = 2 \\\\\n",
    "A^{-1} = (\\frac{1}{2}) * \n",
    "\\begin{bmatrix}\n",
    "6 & -2 \\\\\n",
    "-2 & 1 \\\\\n",
    "\\end{bmatrix}\n",
    "=\n",
    "\\begin{bmatrix}\n",
    "3 & -1 \\\\\n",
    "-1 & \\frac{1}{2} \\\\\n",
    "\\end{bmatrix} \\\\\n",
    "A | b_1 = \\begin{bmatrix}\\begin{array}{cc|c}\n",
    "1 & 2 & 3 \\\\\n",
    "2 & 6 & 5 \\\\\n",
    "\\end{array}\\end{bmatrix}\n",
    "\\xrightarrow{\\text{R}_{2}-2\\text{R}_{1}} \n",
    "\\begin{bmatrix}\\begin{array}{cc|c}\n",
    "1 & 2 & 3 \\\\\n",
    "0 & 2 & -1 \\\\\n",
    "\\end{array}\\end{bmatrix}\n",
    "\\xrightarrow{\\frac{1}{2}R_2}\n",
    "\\begin{bmatrix}\\begin{array}{cc|c}\n",
    "1 & 2 & 3 \\\\\n",
    "0 & 1 & -0.5 \\\\\n",
    "\\end{array}\\end{bmatrix}\n",
    "\\xrightarrow{\\text{R}_{1}-2\\text{R}_{2}} \n",
    "\\begin{bmatrix}\\begin{array}{cc|c}\n",
    "1 & 0 & 4 \\\\\n",
    "0 & 1 & -0.5 \\\\\n",
    "\\end{array}\\end{bmatrix} \\\\\n",
    "\\boxed{A | b_1: x_1 = 4, x_2 = -0.5} \\\\\n",
    "A | b_2 = \\begin{bmatrix}\\begin{array}{cc|c}\n",
    "1 & 2 & -1 \\\\\n",
    "2 & 6 & 2 \\\\\n",
    "\\end{array}\\end{bmatrix}\n",
    "\\xrightarrow{\\text{R}_{2}-2\\text{R}_{1}} \n",
    "\\begin{bmatrix}\\begin{array}{cc|c}\n",
    "1 & 2 & -1 \\\\\n",
    "0 & 2 & 4 \\\\\n",
    "\\end{array}\\end{bmatrix}\n",
    "\\xrightarrow{\\frac{1}{2}R_2}\n",
    "\\begin{bmatrix}\\begin{array}{cc|c}\n",
    "1 & 2 & -1 \\\\\n",
    "0 & 1 & 2 \\\\\n",
    "\\end{array}\\end{bmatrix}\n",
    "\\xrightarrow{\\text{R}_{1}-2\\text{R}_{2}} \n",
    "\\begin{bmatrix}\\begin{array}{cc|c}\n",
    "1 & 0 & -5 \\\\\n",
    "0 & 1 & 2 \\\\\n",
    "\\end{array}\\end{bmatrix} \\\\\n",
    "\\boxed{A | b_2: x_1 = -5, x_2 = 2} \\\\\n",
    "A | b_3 = \\begin{bmatrix}\\begin{array}{cc|c}\n",
    "1 & 2 & 2 \\\\\n",
    "2 & 6 & 0 \\\\\n",
    "\\end{array}\\end{bmatrix}\n",
    "\\xrightarrow{\\text{R}_{2}-2\\text{R}_{1}} \n",
    "\\begin{bmatrix}\\begin{array}{cc|c}\n",
    "1 & 2 & 2 \\\\\n",
    "0 & 2 & -4 \\\\\n",
    "\\end{array}\\end{bmatrix}\n",
    "\\xrightarrow{\\frac{1}{2}R_2}\n",
    "\\begin{bmatrix}\\begin{array}{cc|c}\n",
    "1 & 2 & 2 \\\\\n",
    "0 & 1 & -2 \\\\\n",
    "\\end{array}\\end{bmatrix}\n",
    "\\xrightarrow{\\text{R}_{1}-2\\text{R}_{2}} \n",
    "\\begin{bmatrix}\\begin{array}{cc|c}\n",
    "1 & 0 & 6 \\\\\n",
    "0 & 1 & -2 \\\\\n",
    "\\end{array}\\end{bmatrix} \\\\\n",
    "\\boxed{A | b_3: x_1 = 6, x_2 = -2} \\\\\n",
    "$$"
   ]
  },
  {
   "cell_type": "markdown",
   "id": "75b147be-c712-431d-84f6-d4072798e2b3",
   "metadata": {},
   "source": [
    "4. In each given, determine if $b$ is in $col(A)$, and $w$ is in $row(A)$\n",
    "- \n",
    "\\begin{equation}\n",
    "A =\n",
    "\\begin{bmatrix}\n",
    "1 & 0 & -1 \\\\\n",
    "1 & 1 & 1 \\\\\n",
    "\\end{bmatrix},\n",
    "b =\n",
    "\\begin{bmatrix}\n",
    "3 \\\\\n",
    "2 \\\\\n",
    "\\end{bmatrix},\n",
    "w =\n",
    "\\begin{bmatrix}\n",
    "-1 &\n",
    "1 &\n",
    "1\n",
    "\\end{bmatrix},\n",
    "\\end{equation}"
   ]
  },
  {
   "cell_type": "markdown",
   "id": "a38f8e4d-29a2-44bc-83d9-4c3854c6c7da",
   "metadata": {},
   "source": [
    "Ax &= b\n",
    "\n",
    "\\begin{align*}\n",
    "\\Rightarrow \\quad \\begin{bmatrix}\n",
    "1 & 1 & -1 \\\\\n",
    "1 & 3 & 0 \\\\\n",
    "3 & -1 & -5\n",
    "\\end{bmatrix}\n",
    "\\begin{bmatrix}\n",
    "x_1 \\\\\n",
    "x_2 \\\\\n",
    "x_3\n",
    "\\end{bmatrix}\n",
    "&= \\begin{bmatrix}\n",
    "1 \\\\\n",
    "2 \\\\\n",
    "1\n",
    "\\end{bmatrix} \\\\\n",
    "\\Rightarrow \\quad \\begin{bmatrix}\n",
    "x_1 + x_2 - x_3 &= 1 \\\\\n",
    "x_1 + 3x_2 &= 2 \\\\\n",
    "3x_1 - x_2 - 5x_3 &= 1\n",
    "\\end{bmatrix}\n",
    "\\end{align*}\n",
    "\\begin{align*}\n",
    "\\\\x^T A &= w^T \\\\\n",
    "\\Rightarrow \\qquad\n",
    "\\begin{pmatrix}\n",
    "x_1 \\\\\n",
    "x_2 \\\\\n",
    "x_3\n",
    "\\end{pmatrix}^T\n",
    "\\begin{pmatrix}\n",
    "1 & 1 & -1 \\\\\n",
    "1 & 3 & 0 \\\\\n",
    "3 & -1 & -5\n",
    "\\end{pmatrix}\n",
    "&= \\begin{pmatrix}\n",
    "1 &\n",
    "-3 &\n",
    "-3\n",
    "\\end{pmatrix}^T \\\\\n",
    "\\Rightarrow \\quad \\begin{bmatrix}\n",
    "x_1 + 3x_2 - 5x_3 &= 1 \\\\\n",
    "x_1 + x_2 + x_3 &= -3 \\\\\n",
    "-x_1 - x_2 - 3x_3 &= -3\n",
    "\\end{bmatrix}\n",
    "\\end{align*}\n",
    "\\begin{align*}\n",
    "\\Rightarrow \\quad \\begin{bmatrix}\n",
    "1 & 1 & -1 \\\\\n",
    "1 & 3 & 0 \\\\\n",
    "3 & -1 & -5\n",
    "\\end{bmatrix}\n",
    "\\begin{bmatrix}\n",
    "x_1 \\\\\n",
    "x_2 \\\\\n",
    "x_3\n",
    "\\end{bmatrix}\n",
    "&= \\begin{bmatrix}\n",
    "1 \\\\\n",
    "2 \\\\\n",
    "1\n",
    "\\end{bmatrix} \\\\\n",
    "\\Rightarrow \\quad \\begin{bmatrix}\n",
    "x_1 + x_2 - x_3 &= 1 \\\\\n",
    "x_1 + 3x_2 &= 2 \\\\\n",
    "3x_1 - x_2 - 5x_3 &= 1\n",
    "\\end{bmatrix}\n",
    "\\end{align*}\n",
    "\\begin{align*}\n",
    "\\\\x^T A &= w^T \\\\\n",
    "\\Rightarrow \\qquad\n",
    "\\begin{pmatrix}\n",
    "x_1 \\\\\n",
    "x_2 \\\\\n",
    "x_3\n",
    "\\end{pmatrix}^T\n",
    "\\begin{pmatrix}\n",
    "1 & 1 & -1 \\\\\n",
    "1 & 3 & 0 \\\\\n",
    "3 & -1 & -5\n",
    "\\end{pmatrix}\n",
    "&= \\begin{pmatrix}\n",
    "1 &\n",
    "-3 &\n",
    "-3\n",
    "\\end{pmatrix}^T \\\\\n",
    "\\Rightarrow \\quad \\begin{bmatrix}\n",
    "x_1 + 3x_2 - 5x_3 &= 1 \\\\\n",
    "x_1 + x_2 + x_3 &= -3 \\\\\n",
    "-x_1 - x_2 - 3x_3 &= -3\n",
    "\\end{bmatrix}\n",
    "\\end{align*}"
   ]
  },
  {
   "cell_type": "markdown",
   "id": "4dd7e7db-820a-4455-9835-5c447d8f53f1",
   "metadata": {},
   "source": [
    "$$ 5.) \\  Find \\ the \\ rank \\ and \\ nullity \\ of:\n",
    "\\begin{bmatrix}\n",
    "2 & 4 & 0 & 0 & 1 \\\\\n",
    "6 & 3 & 5 & 1 & 0 \\\\\n",
    "1 & 0 & 2 & 2 & 5 \\\\\n",
    "1 & 1 & 1 & 1 & 1 \\\\\n",
    "\\end{bmatrix}, $$"
   ]
  },
  {
   "cell_type": "markdown",
   "id": "eadae65c-2ed4-4c30-a9e0-9f9ff066dbb0",
   "metadata": {},
   "source": [
    "\\begin{bmatrix}\n",
    "2 & 4 & 0 & 0 & 1 \\\\\n",
    "0 & -9 & 5 & 1 & -3 \\\\\n",
    "1 & 0 & 2 & 2 & 5 \\\\\n",
    "1 & 1 & 1 & 1 & 1 \\\\\n",
    "\\end{bmatrix}\n",
    "\\begin{bmatrix}\n",
    "2 & 4 & 0 & 0 & 1 \\\\\n",
    "0 & -9 & 5 & 1 & -3 \\\\\n",
    "0 & -2 & 2 & 2 & 4 \\\\\n",
    "1 & 1 & 1 & 1 & 1 \\\\\n",
    "\\end{bmatrix}\n",
    "\\begin{bmatrix}\n",
    "2 & 4 & 0 & 0 & 1 \\\\\n",
    "0 & -9 & 5 & 1 & -3 \\\\\n",
    "0 & -2 & 2 & 2 & 4 \\\\\n",
    "0 & -1 & 1 & 1 & 0.5 \\\\\n",
    "\\end{bmatrix}\n",
    "\\begin{bmatrix}\n",
    "2 & 4 & 0 & 0 & 1 \\\\\n",
    "0 & 1 & -\\frac{5}{9} & -\\frac{1}{9} & \\frac{1}{3} \\\\\n",
    "0 & -2 & 2 & 2 & 4 \\\\\n",
    "0 & -1 & 1 & 1 & 0.5 \\\\\n",
    "\\end{bmatrix}\n",
    "\\begin{bmatrix}\n",
    "2 & 4 & 0 & 0 & 1 \\\\\n",
    "0 & 1 & -\\frac{5}{9} & -\\frac{1}{9} & \\frac{1}{3} \\\\\n",
    "0 & 0 & \\frac{8}{9} & \\frac{4}{9} & \\frac{10}{3} \\\\\n",
    "0 & -1 & 1 & 1 & 0.5 \\\\\n",
    "\\end{bmatrix}\n",
    "\\begin{bmatrix}\n",
    "2 & 4 & 0 & 0 & 1 \\\\\n",
    "0 & 1 & -\\frac{5}{9} & -\\frac{1}{9} & \\frac{1}{3} \\\\\n",
    "0 & 0 & \\frac{8}{9} & \\frac{4}{9} & \\frac{10}{3} \\\\\n",
    "0 & 0 & \\frac{1}{9} & \\frac{10}{9} & \\frac{2}{3} \\\\\n",
    "\\end{bmatrix}\n",
    "\\begin{bmatrix}\n",
    "2 & 4 & 0 & 0 & 1 \\\\\n",
    "0 & 1 & -\\frac{5}{9} & -\\frac{1}{9} & \\frac{1}{3} \\\\\n",
    "0 & 0 & 1 & \\frac{1}{2} & \\frac{15}{4} \\\\\n",
    "0 & 0 & \\frac{1}{9} & \\frac{10}{9} & \\frac{2}{3} \\\\\n",
    "\\end{bmatrix}"
   ]
  },
  {
   "cell_type": "code",
   "execution_count": null,
   "id": "a4d69831-5d54-4466-80d8-2b7ff0b62c16",
   "metadata": {},
   "outputs": [],
   "source": []
  }
 ],
 "metadata": {
  "kernelspec": {
   "display_name": "Python 3 (ipykernel)",
   "language": "python",
   "name": "python3"
  },
  "language_info": {
   "codemirror_mode": {
    "name": "ipython",
    "version": 3
   },
   "file_extension": ".py",
   "mimetype": "text/x-python",
   "name": "python",
   "nbconvert_exporter": "python",
   "pygments_lexer": "ipython3",
   "version": "3.11.5"
  }
 },
 "nbformat": 4,
 "nbformat_minor": 5
}
